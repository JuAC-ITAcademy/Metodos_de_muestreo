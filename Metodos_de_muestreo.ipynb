{
 "cells": [
  {
   "cell_type": "markdown",
   "id": "endless-montreal",
   "metadata": {},
   "source": [
    "# Tasca mètodes de mostreig\n",
    "**Descripció**\n",
    "\n",
    "Aprèn a realitzar mostreig de les dades amb Python.\n"
   ]
  },
  {
   "cell_type": "code",
   "execution_count": 1,
   "id": "textile-private",
   "metadata": {},
   "outputs": [],
   "source": [
    "import numpy as np\n",
    "import pandas as pd\n",
    "\n",
    "import random as rd\n",
    "\n",
    "%matplotlib inline\n",
    "import matplotlib.pyplot as plt\n",
    "import seaborn as sns\n",
    "\n",
    "\n",
    "from sklearn.model_selection import train_test_split\n",
    "from imblearn.over_sampling import SMOTE\n"
   ]
  },
  {
   "cell_type": "markdown",
   "id": "biblical-browse",
   "metadata": {},
   "source": [
    "\n",
    "## Nivell 1\n",
    "\n",
    "- Exercici 1\n",
    "\n",
    "Agafa un conjunt de dades de tema esportiu que t'agradi. Realitza un mostreig de les dades generant una mostra aleatòria simple i una mostra sistemàtica.\n"
   ]
  },
  {
   "cell_type": "code",
   "execution_count": 2,
   "id": "offshore-walter",
   "metadata": {},
   "outputs": [],
   "source": [
    "players=pd.read_table('./datasets/mlb.txt')"
   ]
  },
  {
   "cell_type": "code",
   "execution_count": 3,
   "id": "liked-eligibility",
   "metadata": {},
   "outputs": [
    {
     "data": {
      "text/html": [
       "<div>\n",
       "<style scoped>\n",
       "    .dataframe tbody tr th:only-of-type {\n",
       "        vertical-align: middle;\n",
       "    }\n",
       "\n",
       "    .dataframe tbody tr th {\n",
       "        vertical-align: top;\n",
       "    }\n",
       "\n",
       "    .dataframe thead th {\n",
       "        text-align: right;\n",
       "    }\n",
       "</style>\n",
       "<table border=\"1\" class=\"dataframe\">\n",
       "  <thead>\n",
       "    <tr style=\"text-align: right;\">\n",
       "      <th></th>\n",
       "      <th>player</th>\n",
       "      <th>team</th>\n",
       "      <th>position</th>\n",
       "      <th>salary</th>\n",
       "    </tr>\n",
       "  </thead>\n",
       "  <tbody>\n",
       "    <tr>\n",
       "      <th>823</th>\n",
       "      <td>Jordan Zimmerman</td>\n",
       "      <td>Washington Nationals</td>\n",
       "      <td>Pitcher</td>\n",
       "      <td>401.0</td>\n",
       "    </tr>\n",
       "    <tr>\n",
       "      <th>824</th>\n",
       "      <td>Ian Desmond</td>\n",
       "      <td>Washington Nationals</td>\n",
       "      <td>Shortstop</td>\n",
       "      <td>400.0</td>\n",
       "    </tr>\n",
       "    <tr>\n",
       "      <th>825</th>\n",
       "      <td>Ross Detwiler</td>\n",
       "      <td>Washington Nationals</td>\n",
       "      <td>Pitcher</td>\n",
       "      <td>400.0</td>\n",
       "    </tr>\n",
       "    <tr>\n",
       "      <th>826</th>\n",
       "      <td>Jesse English</td>\n",
       "      <td>Washington Nationals</td>\n",
       "      <td>Pitcher</td>\n",
       "      <td>400.0</td>\n",
       "    </tr>\n",
       "    <tr>\n",
       "      <th>827</th>\n",
       "      <td>Willy Taveras</td>\n",
       "      <td>Washington Nationals</td>\n",
       "      <td>Outfielder</td>\n",
       "      <td>400.0</td>\n",
       "    </tr>\n",
       "  </tbody>\n",
       "</table>\n",
       "</div>"
      ],
      "text/plain": [
       "               player                  team    position  salary\n",
       "823  Jordan Zimmerman  Washington Nationals     Pitcher   401.0\n",
       "824       Ian Desmond  Washington Nationals   Shortstop   400.0\n",
       "825     Ross Detwiler  Washington Nationals     Pitcher   400.0\n",
       "826     Jesse English  Washington Nationals     Pitcher   400.0\n",
       "827     Willy Taveras  Washington Nationals  Outfielder   400.0"
      ]
     },
     "execution_count": 3,
     "metadata": {},
     "output_type": "execute_result"
    }
   ],
   "source": [
    "players.tail()"
   ]
  },
  {
   "cell_type": "code",
   "execution_count": 4,
   "id": "civilian-property",
   "metadata": {},
   "outputs": [
    {
     "name": "stdout",
     "output_type": "stream",
     "text": [
      "<class 'pandas.core.frame.DataFrame'>\n",
      "RangeIndex: 828 entries, 0 to 827\n",
      "Data columns (total 4 columns):\n",
      " #   Column    Non-Null Count  Dtype  \n",
      "---  ------    --------------  -----  \n",
      " 0   player    828 non-null    object \n",
      " 1   team      828 non-null    object \n",
      " 2   position  828 non-null    object \n",
      " 3   salary    828 non-null    float64\n",
      "dtypes: float64(1), object(3)\n",
      "memory usage: 26.0+ KB\n"
     ]
    }
   ],
   "source": [
    "players.info()"
   ]
  },
  {
   "cell_type": "markdown",
   "id": "unusual-recipient",
   "metadata": {},
   "source": [
    "**Muestreo aleatorio simple**"
   ]
  },
  {
   "cell_type": "code",
   "execution_count": 5,
   "id": "comprehensive-holly",
   "metadata": {},
   "outputs": [
    {
     "name": "stdout",
     "output_type": "stream",
     "text": [
      "<class 'pandas.core.frame.DataFrame'>\n",
      "Int64Index: 83 entries, 801 to 809\n",
      "Data columns (total 4 columns):\n",
      " #   Column    Non-Null Count  Dtype  \n",
      "---  ------    --------------  -----  \n",
      " 0   player    83 non-null     object \n",
      " 1   team      83 non-null     object \n",
      " 2   position  83 non-null     object \n",
      " 3   salary    83 non-null     float64\n",
      "dtypes: float64(1), object(3)\n",
      "memory usage: 3.2+ KB\n"
     ]
    }
   ],
   "source": [
    "# Función sample de Pandas - 10%\n",
    "\n",
    "muestra_aleatoria=players.sample(frac=0.1,random_state=1984,)\n",
    "muestra_aleatoria.info()"
   ]
  },
  {
   "cell_type": "code",
   "execution_count": 6,
   "id": "serial-penguin",
   "metadata": {},
   "outputs": [
    {
     "data": {
      "text/plain": [
       "1.568620914385014"
      ]
     },
     "execution_count": 6,
     "metadata": {},
     "output_type": "execute_result"
    }
   ],
   "source": [
    "# % Diferencia de medias\n",
    "abs(muestra_aleatoria.salary.mean()-players.salary.mean())/muestra_aleatoria.salary.mean()*100"
   ]
  },
  {
   "cell_type": "code",
   "execution_count": 7,
   "id": "express-pillow",
   "metadata": {},
   "outputs": [
    {
     "data": {
      "text/plain": [
       "Pitcher           0.469880\n",
       "Outfielder        0.132530\n",
       "Second Baseman    0.096386\n",
       "Catcher           0.096386\n",
       "First Baseman     0.084337\n",
       "Shortstop         0.072289\n",
       "Third Baseman     0.048193\n",
       "Name: position, dtype: float64"
      ]
     },
     "execution_count": 7,
     "metadata": {},
     "output_type": "execute_result"
    }
   ],
   "source": [
    "muestra_aleatoria.position.value_counts(normalize=True)"
   ]
  },
  {
   "cell_type": "code",
   "execution_count": 8,
   "id": "marked-destiny",
   "metadata": {},
   "outputs": [
    {
     "data": {
      "text/plain": [
       "Pitcher              0.495169\n",
       "Outfielder           0.178744\n",
       "Catcher              0.080918\n",
       "Shortstop            0.067633\n",
       "Second Baseman       0.057971\n",
       "Third Baseman        0.055556\n",
       "First Baseman        0.050725\n",
       "Designated Hitter    0.008454\n",
       "Infielder            0.004831\n",
       "Name: position, dtype: float64"
      ]
     },
     "execution_count": 8,
     "metadata": {},
     "output_type": "execute_result"
    }
   ],
   "source": [
    "players.position.value_counts(normalize=True)"
   ]
  },
  {
   "cell_type": "markdown",
   "id": "injured-sleep",
   "metadata": {},
   "source": [
    "**Muestreo sistemático**"
   ]
  },
  {
   "cell_type": "markdown",
   "id": "supreme-visitor",
   "metadata": {},
   "source": [
    "Para el muestreo sistemático, desarrollo el siguiente proceso: \n",
    "1. Escojo un número aleatoriamente entre todos los índices (0-827).\n",
    "2. Calculo la longitud entre muestras (intervalo).\n",
    "3. Construyo dos listas, una con números mayores del numero aleatorio y otra con numeros menores.\n",
    "3. Genero lista de numeros mayores del numero aleatorio. Tomando muestras cada 10 elementos desde el némero aleatorio.\n",
    "4. Para la lista de números inferiores, el índice de inicio lo obtengo del resto del último intervalo y de nuevo voy tomando muestras cada 10 elementos hasta el número aleatorio.  "
   ]
  },
  {
   "cell_type": "code",
   "execution_count": 9,
   "id": "utility-addition",
   "metadata": {},
   "outputs": [
    {
     "name": "stdout",
     "output_type": "stream",
     "text": [
      "Primer número aleatorio:  372\n",
      "Intervalo de muestreo:  10\n",
      "Número de muestras:  83\n"
     ]
    }
   ],
   "source": [
    "# Primer número aleatorio con función randint\n",
    "rd.seed(1984)\n",
    "inicio=rd.randint(0,len(players))\n",
    "print('Primer número aleatorio: ',inicio)\n",
    "\n",
    "# Intervalo muestreo para muestra 10%  \n",
    "intervalo=int(1/0.1)\n",
    "print('Intervalo de muestreo: ',intervalo)\n",
    "\n",
    "# Muestras desde el primer número aleatorio con intervalo fijo.\n",
    "muestra_sistematica_hasta_final=[i for i in range(inicio,len(players),10)]\n",
    "\n",
    "# Valor del intervalo menos elementos desde último indice.\n",
    "inicio_segunda=intervalo-((len(players))-muestra_sistematica_hasta_final[-1])\n",
    "# Muestras desde inicio del array numero aleatorio.\n",
    "muestra_sistematica_desde_inicio=[i for i in range(inicio_segunda,inicio,10)]\n",
    "# Unión de muestras\n",
    "muestra_sistematica_lista=muestra_sistematica_desde_inicio+muestra_sistematica_hasta_final\n",
    "print('Número de muestras: ',len(muestra_sistematica_lista))"
   ]
  },
  {
   "cell_type": "code",
   "execution_count": 10,
   "id": "unable-alpha",
   "metadata": {},
   "outputs": [],
   "source": [
    "muestra_sistematica=players.iloc[muestra_sistematica_lista]"
   ]
  },
  {
   "cell_type": "code",
   "execution_count": 11,
   "id": "foster-region",
   "metadata": {},
   "outputs": [
    {
     "data": {
      "text/plain": [
       "2.0522257999025983"
      ]
     },
     "execution_count": 11,
     "metadata": {},
     "output_type": "execute_result"
    }
   ],
   "source": [
    "abs(muestra_sistematica.salary.mean()-players.salary.mean())/muestra_sistematica.salary.mean()*100"
   ]
  },
  {
   "cell_type": "code",
   "execution_count": 12,
   "id": "timely-promise",
   "metadata": {},
   "outputs": [
    {
     "data": {
      "text/plain": [
       "Pitcher           0.506024\n",
       "Outfielder        0.120482\n",
       "Second Baseman    0.096386\n",
       "Third Baseman     0.072289\n",
       "Catcher           0.072289\n",
       "First Baseman     0.072289\n",
       "Shortstop         0.060241\n",
       "Name: position, dtype: float64"
      ]
     },
     "execution_count": 12,
     "metadata": {},
     "output_type": "execute_result"
    }
   ],
   "source": [
    "muestra_sistematica.position.value_counts(normalize=True)"
   ]
  },
  {
   "cell_type": "markdown",
   "id": "seasonal-adoption",
   "metadata": {},
   "source": [
    "\n",
    "\n",
    "## Nivell 2\n",
    "\n",
    "- Exercici 2\n",
    "\n",
    "Continua amb el conjunt de dades de tema esportiu i genera una mostra estratificada i una mostra utilitzant SMOTE (Synthetic Minority Oversampling Technique).\n"
   ]
  },
  {
   "cell_type": "markdown",
   "id": "sunset-planet",
   "metadata": {},
   "source": [
    "Voy a hacer un muestreo estratificado por posición de los jugadores. Para ello, agrupo por position y con apply y una función lambda hago un muestreo de cada grupo. "
   ]
  },
  {
   "cell_type": "code",
   "execution_count": 13,
   "id": "bearing-entity",
   "metadata": {},
   "outputs": [],
   "source": [
    "muestra_estratificada_pd=(\n",
    "    \n",
    "    players.groupby('position').apply(lambda x: x.sample(frac=0.1,\n",
    "                                                         random_state=1984)\n",
    "                                     ).reset_index(level=0,drop=True)\n",
    "    )"
   ]
  },
  {
   "cell_type": "code",
   "execution_count": 14,
   "id": "therapeutic-breed",
   "metadata": {},
   "outputs": [
    {
     "data": {
      "text/plain": [
       "6.0125159184621895"
      ]
     },
     "execution_count": 14,
     "metadata": {},
     "output_type": "execute_result"
    }
   ],
   "source": [
    "abs(muestra_estratificada_pd.salary.mean()-players.salary.mean())/muestra_estratificada_pd.salary.mean()*100"
   ]
  },
  {
   "cell_type": "code",
   "execution_count": 15,
   "id": "lonely-charter",
   "metadata": {},
   "outputs": [
    {
     "data": {
      "text/plain": [
       "Pitcher              0.488095\n",
       "Outfielder           0.178571\n",
       "Catcher              0.083333\n",
       "Shortstop            0.071429\n",
       "Third Baseman        0.059524\n",
       "Second Baseman       0.059524\n",
       "First Baseman        0.047619\n",
       "Designated Hitter    0.011905\n",
       "Name: position, dtype: float64"
      ]
     },
     "execution_count": 15,
     "metadata": {},
     "output_type": "execute_result"
    }
   ],
   "source": [
    "muestra_estratificada_pd.position.value_counts(normalize=True)"
   ]
  },
  {
   "cell_type": "markdown",
   "id": "mobile-engagement",
   "metadata": {},
   "source": [
    "Aunque también podemos utilizar el módulo models_selection de Scikit Learn donde hay alguna clase para muestreo estratificado."
   ]
  },
  {
   "cell_type": "code",
   "execution_count": 16,
   "id": "biological-board",
   "metadata": {},
   "outputs": [],
   "source": [
    "train, muestra_estratificada_SL=train_test_split(players,\n",
    "                                                test_size=0.1, \n",
    "                                                random_state=1984,\n",
    "                                                stratify=players.position)"
   ]
  },
  {
   "cell_type": "code",
   "execution_count": 17,
   "id": "combined-berry",
   "metadata": {},
   "outputs": [
    {
     "data": {
      "text/plain": [
       "15.636310723417132"
      ]
     },
     "execution_count": 17,
     "metadata": {},
     "output_type": "execute_result"
    }
   ],
   "source": [
    "abs(muestra_estratificada_SL.salary.mean()-players.salary.mean())/muestra_estratificada_SL.salary.mean()*100"
   ]
  },
  {
   "cell_type": "code",
   "execution_count": 18,
   "id": "inner-amendment",
   "metadata": {},
   "outputs": [
    {
     "data": {
      "text/plain": [
       "Pitcher              0.493976\n",
       "Outfielder           0.180723\n",
       "Catcher              0.084337\n",
       "Shortstop            0.072289\n",
       "Second Baseman       0.060241\n",
       "Third Baseman        0.048193\n",
       "First Baseman        0.048193\n",
       "Designated Hitter    0.012048\n",
       "Name: position, dtype: float64"
      ]
     },
     "execution_count": 18,
     "metadata": {},
     "output_type": "execute_result"
    }
   ],
   "source": [
    "muestra_estratificada_SL.position.value_counts(normalize=True)#players.position.value_counts(normalize=True)"
   ]
  },
  {
   "cell_type": "markdown",
   "id": "portable-invitation",
   "metadata": {},
   "source": [
    "Como podemos observar tenemos clases muy pequeñas puede ocurrir que en el muestreo estratificadas no aparezcan esas clases en la muestra. "
   ]
  },
  {
   "cell_type": "markdown",
   "id": "educated-taste",
   "metadata": {},
   "source": [
    "**SMOTE**"
   ]
  },
  {
   "cell_type": "code",
   "execution_count": 19,
   "id": "hybrid-convergence",
   "metadata": {},
   "outputs": [],
   "source": [
    "oversample=SMOTE(sampling_strategy='not majority',\n",
    "                random_state=1984,\n",
    "                k_neighbors=3)"
   ]
  },
  {
   "cell_type": "code",
   "execution_count": 20,
   "id": "invalid-offer",
   "metadata": {},
   "outputs": [],
   "source": [
    "players_overs, position_overs=oversample.fit_resample(players[['salary']],players[['position']])"
   ]
  },
  {
   "cell_type": "code",
   "execution_count": 21,
   "id": "gross-supplier",
   "metadata": {},
   "outputs": [
    {
     "data": {
      "text/plain": [
       "position         \n",
       "Catcher              410\n",
       "Designated Hitter    410\n",
       "First Baseman        410\n",
       "Infielder            410\n",
       "Outfielder           410\n",
       "Pitcher              410\n",
       "Second Baseman       410\n",
       "Shortstop            410\n",
       "Third Baseman        410\n",
       "dtype: int64"
      ]
     },
     "execution_count": 21,
     "metadata": {},
     "output_type": "execute_result"
    }
   ],
   "source": [
    "position_overs.value_counts()"
   ]
  },
  {
   "cell_type": "code",
   "execution_count": 22,
   "id": "trying-technician",
   "metadata": {},
   "outputs": [],
   "source": [
    "players_overs['position']=position_overs"
   ]
  },
  {
   "cell_type": "code",
   "execution_count": 23,
   "id": "sacred-radar",
   "metadata": {},
   "outputs": [],
   "source": [
    "muestra_estratificada_SMOTE=(\n",
    "    \n",
    "    players_overs.groupby('position').apply(lambda x: x.sample(n=83,\n",
    "                                                               random_state=1984)\n",
    "                                                                 ).reset_index(level=0,drop=True)\n",
    "    )"
   ]
  },
  {
   "cell_type": "code",
   "execution_count": 24,
   "id": "ceramic-atlantic",
   "metadata": {},
   "outputs": [
    {
     "data": {
      "text/plain": [
       "2.103492172458711"
      ]
     },
     "execution_count": 24,
     "metadata": {},
     "output_type": "execute_result"
    }
   ],
   "source": [
    "abs(muestra_estratificada_SMOTE.salary.mean()-players.salary.mean())/muestra_estratificada_SMOTE.salary.mean()*100"
   ]
  },
  {
   "cell_type": "code",
   "execution_count": 25,
   "id": "going-paragraph",
   "metadata": {},
   "outputs": [
    {
     "data": {
      "text/plain": [
       "Third Baseman        0.111111\n",
       "Pitcher              0.111111\n",
       "Shortstop            0.111111\n",
       "Outfielder           0.111111\n",
       "Designated Hitter    0.111111\n",
       "First Baseman        0.111111\n",
       "Second Baseman       0.111111\n",
       "Catcher              0.111111\n",
       "Infielder            0.111111\n",
       "Name: position, dtype: float64"
      ]
     },
     "execution_count": 25,
     "metadata": {},
     "output_type": "execute_result"
    }
   ],
   "source": [
    "muestra_estratificada_SMOTE.position.value_counts(normalize=True)"
   ]
  },
  {
   "cell_type": "markdown",
   "id": "defensive-launch",
   "metadata": {},
   "source": [
    "Al aplicar el algoritmo SMOTE hemos generado muestras sintéticas con la posición y el salario de los jugadores y la proporción de clases ha quedado modificada, siendo igual el número de jugadores para todas las clases."
   ]
  },
  {
   "cell_type": "markdown",
   "id": "confidential-broad",
   "metadata": {},
   "source": [
    "\n",
    "\n",
    "## Nivell 3\n",
    "\n",
    "- Exercici 3\n",
    "\n",
    "Continua amb el conjunt de dades de tema esportiu i genera una mostra utilitzant el mètode Reservoir sampling."
   ]
  },
  {
   "cell_type": "markdown",
   "id": "universal-genome",
   "metadata": {},
   "source": [
    "El algoritmo de reservoir sampling indica lo siguiente:\n",
    "\n",
    "_A simple and popular but slow algorithm, commonly known as Algorithm R, is due to Alan Waterman.[1]_\n",
    "\n",
    "_The algorithm works by maintaining a reservoir of size k, which initially contains the first k items of the input._\n",
    "\n",
    "``` reservorio=[]\n",
    "k=83 \n",
    "for i in range(len(players)):\n",
    "    if i<k:\n",
    "    reservorio.append(k)\n",
    "        [...]\n",
    "```\n",
    "        \n",
    "_It then iterates over the remaining items until the input is exhausted. Using one-based array indexing, let i > k be the index of the item currently under consideration._\n",
    "\n",
    "_The algorithm then generates a random number j between (and including) 1 and i. If j is at most k, then the item is selected and replaces whichever item currently occupies the j-th position in the reservoir. Otherwise, the item is discarded._\n",
    "\n",
    "``` [...]\n",
    "    else:\n",
    "        j=rd.randint(0,i)\n",
    "        if j<k:\n",
    "            reservorio[j]=i\n",
    "```\n",
    "\n",
    "\n",
    "In effect, for all i, the ith element of the input is chosen to be included in the reservoir with probability k / i. \n",
    "\n",
    "Similarly, at each iteration the jth element of the reservoir array is chosen to be replaced with probability $1 / k × k / i = 1 / i$. It can be shown that when the algorithm has finished executing, each item in the input population has equal probability (i.e., $k / n$ ) of being chosen for the reservoir: \n",
    "\n",
    "$k / i × ( 1 − 1 / ( i + 1 ) ) × ( 1 − 1 / ( i + 2 ) ) × ( 1 − 1 / ( i + 3 ) ) × . . . × ( 1 − 1 / n ) = k / n$"
   ]
  },
  {
   "cell_type": "code",
   "execution_count": 26,
   "id": "collective-honduras",
   "metadata": {},
   "outputs": [],
   "source": [
    "def muestreo_reservorio(muestra,poblacion):\n",
    "    reservorio = []\n",
    "    for i in range(poblacion):\n",
    "        if i < muestra:\n",
    "            reservorio.append(i)\n",
    "        else:\n",
    "            j = rd.randint(0, i)\n",
    "            if j < muestra:\n",
    "                reservorio[j] = i\n",
    "    return reservorio"
   ]
  },
  {
   "cell_type": "code",
   "execution_count": 31,
   "id": "polished-sympathy",
   "metadata": {},
   "outputs": [
    {
     "name": "stdout",
     "output_type": "stream",
     "text": [
      "Tamaño de la población =  828\n",
      "Tamaño muestra =  83\n",
      "Reservorio =  [463, 314, 396, 518, 416, 453, 272, 797, 466, 325, 718, 502, 815, 622, 320, 15, 631, 191, 109, 599, 192, 655, 735, 533, 633, 621, 231, 394, 160, 536, 357, 612, 507, 583, 350, 670, 36, 432, 209, 303, 485, 342, 182, 755, 44, 460, 275, 114, 410, 307, 638, 373, 430, 319, 269, 55, 407, 392, 783, 785, 317, 61, 465, 397, 489, 431, 266, 98, 68, 386, 261, 71, 72, 154, 408, 462, 745, 531, 195, 213, 149, 88, 318]\n"
     ]
    }
   ],
   "source": [
    "rd.seed(1984)\n",
    "muestra=int(len(players)*0.1)+1\n",
    "poblacion=len(players)\n",
    "muestra_reservorio_indices=muestreo_reservorio(muestra,poblacion)\n",
    "print('Tamaño de la población = ',poblacion)\n",
    "print('Tamaño muestra = ',muestra)\n",
    "print('Reservorio = ',muestra_reservorio_indices)\n"
   ]
  },
  {
   "cell_type": "code",
   "execution_count": 28,
   "id": "burning-liberal",
   "metadata": {},
   "outputs": [],
   "source": [
    "muestra_reservorio=players.iloc[muestra_reservorio_indices]"
   ]
  },
  {
   "cell_type": "markdown",
   "id": "collect-transport",
   "metadata": {},
   "source": [
    "muestra_reservorio"
   ]
  },
  {
   "cell_type": "code",
   "execution_count": 30,
   "id": "present-island",
   "metadata": {},
   "outputs": [
    {
     "data": {
      "text/plain": [
       "17.869614503574464"
      ]
     },
     "execution_count": 30,
     "metadata": {},
     "output_type": "execute_result"
    }
   ],
   "source": [
    "abs(muestra_reservorio.salary.mean()-players.salary.mean())/muestra_reservorio.salary.mean()*100"
   ]
  },
  {
   "cell_type": "markdown",
   "id": "identical-compact",
   "metadata": {},
   "source": [
    "## Resumen"
   ]
  },
  {
   "cell_type": "markdown",
   "id": "simple-hungary",
   "metadata": {},
   "source": [
    "A continuación podemos ver la diferencia entre las medias de las muestras y la media de la población."
   ]
  },
  {
   "cell_type": "code",
   "execution_count": 33,
   "id": "prepared-nancy",
   "metadata": {},
   "outputs": [],
   "source": [
    "metodos={'Muestreo aleatorio simple':muestra_aleatoria,\n",
    "         'Muestreo sistematico':muestra_sistematica,\n",
    "         'Muestreo estratificado (PANDAS)':muestra_estratificada_pd,\n",
    "         'Muestreo estratificado (SKLearn)':muestra_estratificada_SL,\n",
    "         'Muestreo estratificado con SMOTE':muestra_estratificada_SMOTE,\n",
    "         'Muestreo reservorio':muestra_reservorio}"
   ]
  },
  {
   "cell_type": "code",
   "execution_count": 38,
   "id": "molecular-recycling",
   "metadata": {},
   "outputs": [
    {
     "data": {
      "text/html": [
       "<div>\n",
       "<style scoped>\n",
       "    .dataframe tbody tr th:only-of-type {\n",
       "        vertical-align: middle;\n",
       "    }\n",
       "\n",
       "    .dataframe tbody tr th {\n",
       "        vertical-align: top;\n",
       "    }\n",
       "\n",
       "    .dataframe thead th {\n",
       "        text-align: right;\n",
       "    }\n",
       "</style>\n",
       "<table border=\"1\" class=\"dataframe\">\n",
       "  <thead>\n",
       "    <tr style=\"text-align: right;\">\n",
       "      <th></th>\n",
       "      <th>Salario medio</th>\n",
       "      <th>Diferencia salario medio población</th>\n",
       "      <th>Pct Diferencia(%)</th>\n",
       "    </tr>\n",
       "  </thead>\n",
       "  <tbody>\n",
       "    <tr>\n",
       "      <th>Muestreo aleatorio simple</th>\n",
       "      <td>3231.14</td>\n",
       "      <td>50.68</td>\n",
       "      <td>1.54</td>\n",
       "    </tr>\n",
       "    <tr>\n",
       "      <th>Muestreo sistematico</th>\n",
       "      <td>3350.59</td>\n",
       "      <td>68.76</td>\n",
       "      <td>2.10</td>\n",
       "    </tr>\n",
       "    <tr>\n",
       "      <th>Muestreo estratificado (PANDAS)</th>\n",
       "      <td>3491.77</td>\n",
       "      <td>209.94</td>\n",
       "      <td>6.40</td>\n",
       "    </tr>\n",
       "    <tr>\n",
       "      <th>Muestreo estratificado (SKLearn)</th>\n",
       "      <td>3890.10</td>\n",
       "      <td>608.27</td>\n",
       "      <td>18.53</td>\n",
       "    </tr>\n",
       "    <tr>\n",
       "      <th>Muestreo estratificado con SMOTE</th>\n",
       "      <td>3352.34</td>\n",
       "      <td>70.52</td>\n",
       "      <td>2.15</td>\n",
       "    </tr>\n",
       "    <tr>\n",
       "      <th>Muestreo reservorio</th>\n",
       "      <td>2784.29</td>\n",
       "      <td>497.54</td>\n",
       "      <td>15.16</td>\n",
       "    </tr>\n",
       "  </tbody>\n",
       "</table>\n",
       "</div>"
      ],
      "text/plain": [
       "                                  Salario medio  \\\n",
       "Muestreo aleatorio simple               3231.14   \n",
       "Muestreo sistematico                    3350.59   \n",
       "Muestreo estratificado (PANDAS)         3491.77   \n",
       "Muestreo estratificado (SKLearn)        3890.10   \n",
       "Muestreo estratificado con SMOTE        3352.34   \n",
       "Muestreo reservorio                     2784.29   \n",
       "\n",
       "                                  Diferencia salario medio población  \\\n",
       "Muestreo aleatorio simple                                      50.68   \n",
       "Muestreo sistematico                                           68.76   \n",
       "Muestreo estratificado (PANDAS)                               209.94   \n",
       "Muestreo estratificado (SKLearn)                              608.27   \n",
       "Muestreo estratificado con SMOTE                               70.52   \n",
       "Muestreo reservorio                                           497.54   \n",
       "\n",
       "                                  Pct Diferencia(%)  \n",
       "Muestreo aleatorio simple                      1.54  \n",
       "Muestreo sistematico                           2.10  \n",
       "Muestreo estratificado (PANDAS)                6.40  \n",
       "Muestreo estratificado (SKLearn)              18.53  \n",
       "Muestreo estratificado con SMOTE               2.15  \n",
       "Muestreo reservorio                           15.16  "
      ]
     },
     "execution_count": 38,
     "metadata": {},
     "output_type": "execute_result"
    }
   ],
   "source": [
    "tabla=[]\n",
    "indice=[]\n",
    "for nombre,metodo in metodos.items():\n",
    "    valores=[metodo.salary.mean(),\n",
    "             abs(metodo.salary.mean()-players.salary.mean()),\n",
    "             abs(metodo.salary.mean()-players.salary.mean())/players.salary.mean()*100]\n",
    "    indice.append(nombre)\n",
    "    tabla.append(valores)\n",
    "\n",
    "round(pd.DataFrame(tabla,\n",
    "                   columns=['Salario medio', 'Diferencia salario medio población','Pct Diferencia(%)'],\n",
    "                   index=indice),2)"
   ]
  },
  {
   "cell_type": "code",
   "execution_count": null,
   "id": "juvenile-dictionary",
   "metadata": {},
   "outputs": [],
   "source": []
  }
 ],
 "metadata": {
  "kernelspec": {
   "display_name": "Python 3",
   "language": "python",
   "name": "python3"
  },
  "language_info": {
   "codemirror_mode": {
    "name": "ipython",
    "version": 3
   },
   "file_extension": ".py",
   "mimetype": "text/x-python",
   "name": "python",
   "nbconvert_exporter": "python",
   "pygments_lexer": "ipython3",
   "version": "3.8.5"
  }
 },
 "nbformat": 4,
 "nbformat_minor": 5
}
